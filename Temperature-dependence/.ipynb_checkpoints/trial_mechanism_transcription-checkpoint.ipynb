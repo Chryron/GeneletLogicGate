{
 "cells": [
  {
   "cell_type": "code",
   "execution_count": 1,
   "metadata": {},
   "outputs": [],
   "source": [
    "from biocrnpyler.mechanism import *\n",
    "from biocrnpyler.chemical_reaction_network import Species, Reaction, ComplexSpecies, Multimer\n",
    "import numpy as np\n",
    "import pylab as plt \n",
    "\n",
    "class transcription_temperature(Mechanism):\n",
    "    # G + RNAP -->(k1) G:RNAP(closed) -->(k2) G:RNAP(open)----->(k3)   G+RNAP+mRNA\n",
    "    #Set the name and mechanism_type\n",
    "    def __init__(self, name=\"transcription_temperature\", rnap=\"RNAP\", mechanism_type=\"transcription\", **keywords):\n",
    "        if isinstance(rnap, Species):\n",
    "            self.rnap = rnap\n",
    "        elif isinstance(rnap, str):\n",
    "            self.rnap = Species(name=rnap, material_type=\"protein\")\n",
    "        elif isinstance(rnap, Component) and rnap.get_species() != None:\n",
    "            self.rnap = rnap.get_species()\n",
    "        else:\n",
    "            raise ValueError(\n",
    "                \"'rnap' parameter must be a string or a Component with defined \"\n",
    "                \"get_species(), or a chemical_reaction_network.Species object\")\n",
    "        Mechanism.__init__(self, name=name, mechanism_type=mechanism_type, **keywords)\n",
    "     \n",
    "    #Overwrite update_species\n",
    "    def update_species(self, dna, return_rnap = True, transcript = None, **keywords):\n",
    "        \n",
    "        species = [dna]\n",
    "        if return_rnap:\n",
    "            species += [self.rnap]\n",
    "        \n",
    "        closedcomplex = ComplexSpecies([dna,self.rnap])\n",
    "        opencomplex = Species(name=\"opencomplex\")\n",
    "        species+= [opencomplex, closedcomplex]\n",
    "        \n",
    "        if transcript is None: #Species names can be automatically created\n",
    "            transcript = Species(dna.name, material_type = \"rna\")\n",
    "        species += [transcript]\n",
    "\n",
    "        return species #it is best to return all species that will be involved in the reactions\n",
    "\n",
    "    #Overwrite update_reactions\n",
    "    #This always requires the inputs component and part_id to find the relevant parameters\n",
    "    def update_reactions(self, dna, component, part_id, transcript = None, **keywords):\n",
    "\n",
    "        if transcript is None: #Species names should be automatically created the same here as above\n",
    "            transcript = Species(dna.name, material_type = \"rna\")\n",
    "            \n",
    "        closedcomplex = ComplexSpecies([dna,self.rnap])\n",
    "        opencomplex = Species(name=dna.name + \"_opencomplex\")\n",
    "\n",
    "        \n",
    "        \n",
    "        k1 = component.get_parameter(\"k1\", part_id = part_id, mechanism = self)\n",
    "        k2 = component.get_parameter(\"k2\", part_id = part_id, mechanism = self)\n",
    "        k3 = component.get_parameter(\"k3\", part_id = part_id, mechanism = self)    \n",
    "        Temperature= component.get_parameter(\"Temperature\", part_id=part_id, mechanism = self)\n",
    "        A = component.get_parameter(\"A\", part_id = part_id, mechanism = self)\n",
    "        B = component.get_parameter(\"B\", part_id = part_id, mechanism = self)\n",
    "        C = component.get_parameter(\"C\", part_id = part_id, mechanism = self)\n",
    "        \n",
    "        \n",
    "        rate_string= \"(\" + str(dna)+ \"*\"+ \"(\" + \"1\" + \"/\" + \"(\" + str(A) + \"*\" + str(Temperature) + \"^\" + \"2\" + \"+\" + str(B) + \"*\" + str(Temperature) + \"+\" + str(C) + \")\"+ \")\" + \")\"\n",
    "               \n",
    "        reaction_1 = Reaction(inputs = [dna, self.rnap], outputs = [closedcomplex], k = k1, propensity_type = \"general\",\n",
    "                              propensity_params= { \"rate\": rate_string})\n",
    "        reaction_2 = Reaction(inputs = [closedcomplex], outputs = [opencomplex], k = k2)\n",
    "        reaction_3 = Reaction(inputs = [opencomplex], outputs = [dna, self.rnap, transcript], k = k3)                           \n",
    "\n",
    "        #In this case, we just return one reaction\n",
    "        return [reaction_1, reaction_2, reaction_3]"
   ]
  },
  {
   "cell_type": "code",
   "execution_count": 2,
   "metadata": {},
   "outputs": [
    {
     "name": "stdout",
     "output_type": "stream",
     "text": [
      "Pretty_print representation of the CRN:\n",
      " Species (5) = {0. protein[RNAP], 1. rna[X], 2. opencomplex, 3. complex[dna[X]:protein[RNAP]], 4. dna[X]}\n",
      "Reactions (3) = [\n",
      "0. dna[X] + protein[RNAP] --> complex[dna[X]:protein[RNAP]]        \n",
      "        general: k(x)=0.01*(dna_X*(1/(0.0576*37^2+-4.68*37+120)))\n",
      "1. complex[dna[X]:protein[RNAP]] --> X_opencomplex        \n",
      "        massaction: k_f(complex[dna[X]:protein[RNAP]])=0.66*complex[dna[X]:protein[RNAP]]\n",
      "2. X_opencomplex --> dna[X] + protein[RNAP] + rna[X]        \n",
      "        massaction: k_f(X_opencomplex)=100000*X_opencomplex\n",
      "]\n"
     ]
    }
   ],
   "source": [
    "%matplotlib inline\n",
    "from biocrnpyler import *\n",
    "\n",
    "lac_ara_1= Promoter(\"lac_ara_1\")\n",
    "\n",
    "G = DNAassembly(\"X\", promoter = \"lac_ara_1\")\n",
    "\n",
    "mech_tx= transcription_temperature()\n",
    "default_mechanisms={\"transcription\":mech_tx}\n",
    "default_parameters ={\"k1\":0.01, \"k2\":0.66, \"k3\":100000, \"Temperature\":37, \"A\": 0.0576 , \"B\": -4.68 , \"C\": 120 }\n",
    "M = Mixture(\"TxTlMixture\", components = [G], parameters = default_parameters, mechanisms= default_mechanisms)\n",
    "\n",
    "CRN = M.compile_crn()\n",
    "\n",
    "print(\"Pretty_print representation of the CRN:\\n\",\n",
    "      CRN.pretty_print(show_rates = True, show_attributes = True, show_materials = True))"
   ]
  },
  {
   "cell_type": "code",
   "execution_count": 16,
   "metadata": {},
   "outputs": [
    {
     "name": "stderr",
     "output_type": "stream",
     "text": [
      "/opt/anaconda3/lib/python3.7/site-packages/biocrnpyler/chemical_reaction_network.py:1089: UserWarning: The following species are uninitialized and their value has been defaulted to 0: X_opencomplex, Y_opencomplex, \n",
      "  initial_condition_dict = initial_condition_dict)\n",
      "/opt/anaconda3/lib/python3.7/site-packages/biocrnpyler/chemical_reaction_network.py:1089: UserWarning: The following species are uninitialized and their value has been defaulted to 0: X_opencomplex, Y_opencomplex, \n",
      "  initial_condition_dict = initial_condition_dict)\n"
     ]
    },
    {
     "data": {
      "image/png": "[encoded data removed]",
      "text/plain": [
       "<Figure size 432x288 with 1 Axes>"
      ]
     },
     "metadata": {
      "needs_background": "light"
     },
     "output_type": "display_data"
    }
   ],
   "source": [
    "\n",
    "temp_vals={25, 37}\n",
    "timepoints = np.linspace(0, 100, 50)\n",
    "mech_tx= transcription_temperature()\n",
    "default_mechanism={\"transcription\":mech_tx}\n",
    "\n",
    "for val in temp_vals: \n",
    "    \n",
    "    P1= Promoter(\"lac_ara_1\")\n",
    "    P2= Promoter(\"lac_ara_1\")\n",
    "    G1 = DNAassembly(\"X\", promoter = \"P1\", \n",
    "                     parameters={\"k1\":0.01, \"k2\":0.66, \"k3\":100000, \"Temperature\":val, \"A\": 0.0576 , \"B\": -4.68 , \"C\": 120 }\n",
    "                    , mechanisms= default_mechanism)\n",
    "    G2 = DNAassembly(\"Y\", promoter = \"P2\",\n",
    "                     parameters={\"k1\":0.001, \"k2\":0.16, \"k3\":100000, \"Temperature\":val, \"A\": 0.0095 , \"B\": -0.77 , \"C\": 20 }\n",
    "                    , mechanisms= default_mechanism)\n",
    "    \n",
    "    M1 = Mixture(\"TxTlMixture\", components = [G1, G2])\n",
    "    \n",
    "    CRN1 = M1.compile_crn()\n",
    "    R = CRN1.simulate_with_bioscrape(timepoints = timepoints, \n",
    "                                    initial_condition_dict = {\"dna_X\":5, \"dna_Y\":5}, stochastic= True )\n",
    "    plt.plot(timepoints, R[\"rna_X\"], label= \"IPTG+Ara at \"+ str(val) + \" C\", lw = 2)\n",
    "    plt.plot(timepoints, R[\"rna_Y\"], label= \"IPTG only at \"+ str(val)+ \" C\", lw = 2)\n",
    "    \n",
    " #   plt.plot(timepoints, R[\"complex_dna_X_protein_RNAP\"], label= \"opencomplex \"+ str(val), lw = 2)\n",
    "\n",
    "\n",
    "plt.xlabel(\"Time (S)\")\n",
    "plt.ylabel(\"mRNA molecules\");\n",
    "plt.legend()\n",
    "plt.show()"
   ]
  },
  {
   "cell_type": "code",
   "execution_count": null,
   "metadata": {},
   "outputs": [],
   "source": []
  },
  {
   "cell_type": "code",
   "execution_count": null,
   "metadata": {},
   "outputs": [],
   "source": []
  },
  {
   "cell_type": "code",
   "execution_count": null,
   "metadata": {},
   "outputs": [],
   "source": []
  },
  {
   "cell_type": "code",
   "execution_count": null,
   "metadata": {},
   "outputs": [],
   "source": []
  }
 ],
 "metadata": {
  "kernelspec": {
   "display_name": "Python 3",
   "language": "python",
   "name": "python3"
  },
  "language_info": {
   "codemirror_mode": {
    "name": "ipython",
    "version": 3
   },
   "file_extension": ".py",
   "mimetype": "text/x-python",
   "name": "python",
   "nbconvert_exporter": "python",
   "pygments_lexer": "ipython3",
   "version": "3.7.6"
  }
 },
 "nbformat": 4,
 "nbformat_minor": 4
}
