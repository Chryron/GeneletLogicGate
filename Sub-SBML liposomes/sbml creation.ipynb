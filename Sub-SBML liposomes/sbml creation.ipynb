{
 "cells": [
  {
   "cell_type": "code",
   "execution_count": null,
   "metadata": {},
   "outputs": [],
   "source": [
    "from biocrnpyler import *\n",
    "from genelet import *\n",
    "from subsbml import System, createSubsystem, combineSystems, createNewSubsystem, createBasicSubsystem, SimpleModel, SimpleReaction\n",
    "import numpy as np\n",
    "import pylab as plt\n",
    "\n",
    "from bokeh.layouts import row\n",
    "from bokeh.io import export_png\n",
    "\n",
    "import warnings\n",
    "import libsbml\n",
    "import bokeh.io\n",
    "import bokeh.plotting"
   ]
  },
  {
   "cell_type": "code",
   "execution_count": 13,
   "metadata": {},
   "outputs": [
    {
     "data": {
      "text/plain": [
       "True"
      ]
     },
     "execution_count": 13,
     "metadata": {},
     "output_type": "execute_result"
    }
   ],
   "source": [
    "# Creating CRN for NOR gate\n",
    "\n",
    "S1_off = Species(\"Sw1\")\n",
    "S2_off = Species(\"Sw2\")\n",
    "S3_off = Species(\"Sw3\")\n",
    "\n",
    "S1 = Genelet(S1_off, transcript = \"I3\", activator = \"A1\", inhibitor = \"I1\" )\n",
    "S2 = Genelet(S2_off, transcript = \"I3\", activator = \"A2\", inhibitor = \"I2\" )\n",
    "S3 = Genelet(S3_off, transcript = \"I4\", activator = \"A3\", inhibitor = \"I3\" )\n",
    "\n",
    "M_NOR = Mixture(name = \"Switch_test\", components = [S1,S2,S3], parameter_file = \"default_parameters.txt\")\n",
    "\n",
    "repr(M_NOR)\n",
    "CRN_NOR = M_NOR.compile_crn()\n",
    "CRN_NOR.write_sbml_file('NOR_CRN.xml')\n",
    "#print(CRN_NOR)"
   ]
  },
  {
   "cell_type": "code",
   "execution_count": 19,
   "metadata": {},
   "outputs": [
    {
     "name": "stdout",
     "output_type": "stream",
     "text": [
      "<subsbml.Subsystem.Subsystem object at 0x7f09d99baf10>\n"
     ]
    }
   ],
   "source": [
    "##### Creating atc reservoir model####\n",
    "\n",
    "\n",
    "rI4_ss, rI4_model = createBasicSubsystem('external_reservoir')\n",
    "\n",
    "per_second = rI4_model.createNewUnitDefinition(uId = 'per_second',uKind = libsbml.UNIT_KIND_SECOND,\n",
    "                                                uExponent = -1)\n",
    "substance = rI4_model.createNewUnitDefinition('substance',libsbml.UNIT_KIND_DIMENSIONLESS, uExponent = 1)\n",
    "\n",
    "rI4_model.createNewSpecies('rna_I4',sComp = 'external_reservoir', ListOfAmounts = 0, \n",
    "                             sConstant = False, sSubstance = 'substance')\n",
    "\n",
    "# Write to SBML file \n",
    "exsub = rI4_ss.writeSBML('rI4_external_reservoir.xml')\n",
    "print(rI4_ss)"
   ]
  },
  {
   "cell_type": "code",
   "execution_count": 20,
   "metadata": {},
   "outputs": [
    {
     "name": "stdout",
     "output_type": "stream",
     "text": [
      "Model written to a SBML file successfully\n"
     ]
    }
   ],
   "source": [
    "mb_ss = createNewSubsystem()\n",
    "model = mb_ss.createNewModel('membrane','second','mole','substance')\n",
    "\n",
    "mb_md = SimpleModel(model)\n",
    "\n",
    "per_second = mb_md.createNewUnitDefinition('per_second',libsbml.UNIT_KIND_SECOND,-1,0,1)\n",
    "substance = mb_md.createNewUnitDefinition('substance',libsbml.UNIT_KIND_DIMENSIONLESS, 1, 0, 1)\n",
    "\n",
    "################# Two important lines of code when creating membrane #########################\n",
    "mb_md.createNewCompartment('internal','internal',1e-6,'litre',True)\n",
    "mb_md.createNewCompartment('external','external',1e-6,'litre',True)\n",
    "##############################################################################################\n",
    "\n",
    "mb_md.createNewSpecies( 'rna_I4','external',0,False,'substance')\n",
    "mb_md.createNewSpecies( 'rna_I4','internal',0,False,'substance')\n",
    "\n",
    "mb_md.createNewParameter('kd', 2e-3, False, 'per_second')\n",
    "mb_md.createNewParameter('kb', 2e-3, False, 'per_second')\n",
    "\n",
    "# model = IPTG_mb_ss.getSBMLDocument().getModel()\n",
    "r1_sbml = model.createReaction()\n",
    "r1 = SimpleReaction(r1_sbml)\n",
    "r1.setId('r1')\n",
    "r1.setReversible(True)\n",
    "r1.createNewReactant('rna_I4_1',False,1)\n",
    "r1.createNewProduct('rna_I4', False, 1)\n",
    "r1.createRate('kb * rna_I4_1 - kd * rna_I4')\n",
    "\n",
    "# Write to SBML file \n",
    "_ = mb_ss.writeSBML('membrane.xml')\n",
    "print('Model written to a SBML file successfully')"
   ]
  },
  {
   "cell_type": "code",
   "execution_count": 21,
   "metadata": {},
   "outputs": [
    {
     "name": "stdout",
     "output_type": "stream",
     "text": [
      "Model written to a SBML file successfully\n"
     ]
    }
   ],
   "source": [
    "##### Creating a advanced membrane model for IPTG transport####\n",
    "complex_mb_ss = createNewSubsystem()\n",
    "model = complex_mb_ss.createNewModel('complex_membrane','second','mole','substance')\n",
    "\n",
    "complex_mb = SimpleModel(model)\n",
    "\n",
    "per_second = complex_mb.createNewUnitDefinition('per_second',libsbml.UNIT_KIND_SECOND,-1,0,1)\n",
    "substance = complex_mb.createNewUnitDefinition('substance',libsbml.UNIT_KIND_DIMENSIONLESS, 1, 0, 1)\n",
    "\n",
    "################# Two important lines of code when creating membrane #########################\n",
    "complex_mb.createNewCompartment('internal','internal',1e-6,'litre',True)\n",
    "complex_mb.createNewCompartment('external','external',1e-6,'litre',True)\n",
    "##############################################################################################\n",
    "\n",
    "complex_mb.createNewSpecies( 'rna_I4','external',0,False,'substance')\n",
    "complex_mb.createNewSpecies( 'rna_I4','internal',0,False,'substance')\n",
    "complex_mb.createNewSpecies( 'transport_protein','internal',1,False,'substance')\n",
    "complex_mb.createNewSpecies( 'rna_I4_transport_protein','internal',0,False,'substance')\n",
    "\n",
    "complex_mb.createNewParameter( 'kb',0.01,False,'per_second')\n",
    "complex_mb.createNewParameter( 'kd',0.2,False,'per_second')\n",
    "\n",
    "model = complex_mb_ss.getSBMLDocument().getModel()\n",
    "\n",
    "r1 = SimpleReaction(model.createReaction())\n",
    "r1.setId('r1')\n",
    "r1.setReversible(True)\n",
    "r1.createNewReactant('rna_I4',False,1)\n",
    "r1.createNewReactant('transport_protein', False, 1)\n",
    "r1.createNewProduct('rna_I4_transport_protein', False, 1)\n",
    "r1.createRate('kb * rna_I4 * transport_protein - kd * rna_I4_transport_protein')\n",
    "\n",
    "\n",
    "r2 = SimpleReaction(model.createReaction())\n",
    "r2.setId('r2')\n",
    "r2.setReversible(True)\n",
    "r2.createNewReactant('rna_I4_transport_protein',False,1)\n",
    "r2.createNewProduct('rna_I4_1',False,1)\n",
    "r2.createNewProduct('transport_protein',False,1)\n",
    "r2.createRate('kd * rna_I4_transport_protein - kb * rna_I4_1 * transport_protein')\n",
    "\n",
    "\n",
    "# Write to SBML file \n",
    "_ = complex_mb_ss.writeSBML('membrane_detailed.xml')\n",
    "print('Model written to a SBML file successfully')"
   ]
  }
 ],
 "metadata": {
  "kernelspec": {
   "display_name": "Python 3",
   "language": "python",
   "name": "python3"
  },
  "language_info": {
   "codemirror_mode": {
    "name": "ipython",
    "version": 3
   },
   "file_extension": ".py",
   "mimetype": "text/x-python",
   "name": "python",
   "nbconvert_exporter": "python",
   "pygments_lexer": "ipython3",
   "version": "3.7.6"
  }
 },
 "nbformat": 4,
 "nbformat_minor": 4
}
