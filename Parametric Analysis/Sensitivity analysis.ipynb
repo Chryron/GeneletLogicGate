{
 "cells": [
  {
   "cell_type": "markdown",
   "metadata": {
    "slideshow": {
     "slide_type": "slide"
    }
   },
   "source": [
    "# BE 240 Lecture : 2\n",
    "\n",
    "## Local Sensitivity Analysis\n",
    "### _Ayush Pandey_\n",
    "\n"
   ]
  },
  {
   "cell_type": "markdown",
   "metadata": {
    "slideshow": {
     "slide_type": "slide"
    }
   },
   "source": [
    "# General nonlinear system dynamics:\n",
    "\\begin{align}\n",
    "\\dot{x} &= f(x, \\Theta) + g(x, \\Theta)u\\\\\n",
    "\\dot{y} &= h(x, \\Theta)\\\\\n",
    "\\end{align}\n",
    "Or in a simpler case: \n",
    "\\begin{align}\n",
    "y = Cx\\\\\n",
    "\\end{align}\n",
    "\n",
    "where $x$ : States, $\\Theta$ : Parameter set, and $y$ : Output\n"
   ]
  },
  {
   "cell_type": "markdown",
   "metadata": {
    "slideshow": {
     "slide_type": "slide"
    }
   },
   "source": [
    "# Sensitivity coefficients:\n",
    "\\begin{align}\n",
    "S_i(t) = \\frac{dx}{d\\theta}(t)\n",
    "\\end{align}\n",
    "where $x$ : State, $\\theta$ : Parameter\n",
    "\n",
    "\n",
    "# Jacobian:\n",
    "\\begin{align}\n",
    "J = \\frac{df}{dx}\n",
    "\\end{align}\n",
    "where $x$ : State, $f$ : System ODE\n",
    "\n"
   ]
  },
  {
   "cell_type": "markdown",
   "metadata": {
    "slideshow": {
     "slide_type": "slide"
    }
   },
   "source": [
    "\n",
    "# Sensitivity to Parameter:\n",
    "\\begin{align}\n",
    "Z = \\frac{df}{d\\theta}\n",
    "\\end{align}\n",
    "where $x$ : State, $f$ : System ODE\n",
    "\n",
    "# Fourth-Order Central Difference Method:\n",
    "We can approximate the derivatives using the fourth order central difference method. This speeds up the computations.\n",
    "The formula is given by:\n",
    "\\begin{align}\n",
    "\\frac{df}{dx} \\approx \\frac{-f(x + 2h) + 8f(x+h) - 8f(x-h) + f(x-2h)}{12h}\\\\\n",
    "\\\\\n",
    "\\end{align}"
   ]
  },
  {
   "cell_type": "code",
   "execution_count": 1,
   "metadata": {
    "slideshow": {
     "slide_type": "skip"
    }
   },
   "outputs": [],
   "source": [
    "# Compute Jacobian\n",
    "import warnings\n",
    "def compute_J(fun, x, params_values, **kwargs):\n",
    "    '''\n",
    "    Compute the Jacobian J = df/dx at a point x.\n",
    "    Returns a matrix of size n x n.\n",
    "    Uses fourth-order central difference method to compute Jacobian\n",
    "    '''\n",
    "    n = len(x)\n",
    "    var = x\n",
    "    # initialize J\n",
    "    J = np.zeros( (n, len(x)) )   \n",
    "    P = params_values \n",
    "    # jfun = nd.Jacobian(lambda x: fun_ode(0, x, P), **kwargs) # Using numdifftools\n",
    "    # return jfun(x)\n",
    "    # store the variable with respect to which we approximate the differentiation (df/dvar)\n",
    "    X = var \n",
    "    for i in range(n):\n",
    "        for j in range(len(var)):\n",
    "            F = np.zeros( (4,1) )\n",
    "            h = X[j]*0.01\n",
    "            # Gets O(4) central difference on dfi/dvarj\n",
    "            if h != 0:\n",
    "                var = X\n",
    "                var[j] = X[j] + 2*h\n",
    "                f = fun(var, P)\n",
    "                F[0] = f[i]\n",
    "                var[j] = X[j] + h\n",
    "                f = fun(var, P)\n",
    "                F[1] = f[i]\n",
    "                var[j] = X[j] - h\n",
    "                f = fun(var, P)\n",
    "                F[2] = f[i]\n",
    "                var[j] = X[j] - 2*h\n",
    "                f = fun(var, P)\n",
    "                F[3] = f[i]\n",
    "                #Store appro var. dfi/dvarj into J\n",
    "                J[i,j]= (-F[0] + 8*F[1] - 8*F[2] + F[3])/(12*h) \n",
    "                # Error check\n",
    "                if J[i, j] == np.Inf:\n",
    "                    warnings.warn('Inf found')\n",
    "                    J[i, j] = 1\n",
    "                elif J[i, j] == np.NaN:\n",
    "                    warnings.warn('NaN found')\n",
    "                    J[i, j] = 0\n",
    "    return J"
   ]
  },
  {
   "cell_type": "code",
   "execution_count": 2,
   "metadata": {
    "slideshow": {
     "slide_type": "skip"
    }
   },
   "outputs": [],
   "source": [
    "def compute_Zj(fun, x, j, params_values, **kwargs):\n",
    "    '''\n",
    "    Compute Z_j, i.e. df/dp_j at a particular timepoint k for the parameter p_j. \n",
    "    Returns a vector of size n x 1. \n",
    "    '''\n",
    "    n = len(x)\n",
    "    Z = np.zeros(n)    \n",
    "    P_holder = params_values\n",
    "    # For each state\n",
    "    for i in range(n):\n",
    "        P = P_holder\n",
    "        F = np.zeros( (4,1) ) # For 4th order difference\n",
    "        h = P[j]*0.01 # Small parameter for this parameter\n",
    "        # Gets O(4) central difference on dfi/dpj\n",
    "        if h != 0:\n",
    "            P[j] = P_holder[j] + 2*h\n",
    "            f = fun(x, P)\n",
    "            F[0] = f[i]\n",
    "            P[j] = P_holder[j] + h\n",
    "            f = fun(x, P)\n",
    "            F[1] = f[i]\n",
    "            P[j] = P_holder[j] - h\n",
    "            f = fun(x, P)\n",
    "            F[2] = f[i]\n",
    "            P[j] = P_holder[j] - 2*h\n",
    "            f = fun(x, P)\n",
    "            F[3] = f[i]\n",
    "            #Store approx. dfi/dpj into Z\n",
    "            Z[i] = (-F[0] + 8*F[1] - 8*F[2] + F[3])/(12*h)   \n",
    "            if Z[i] == np.Inf:\n",
    "                warnings.warn('Inf found')\n",
    "                Z[i] = 1\n",
    "            elif Z[i] == np.NaN:\n",
    "                warnings.warn('NaN found')\n",
    "                Z[i] = 0\n",
    "    return Z\n",
    "\n"
   ]
  },
  {
   "cell_type": "code",
   "execution_count": 3,
   "metadata": {
    "slideshow": {
     "slide_type": "skip"
    }
   },
   "outputs": [],
   "source": [
    "def compute_SSM(fun, solutions, params_values, timepoints, normalize = False, **kwargs):\n",
    "    '''\n",
    "    Returns the sensitivity coefficients S_j for each parameter p_j. \n",
    "    Solutions is the ODE solution to fun for timepoints.\n",
    "    Solutions is of shape (len(timepoints), n), where n is the len(x).\n",
    "    The sensitivity coefficients are written in a sensitivity matrix SSM of size len(timepoints) x len(params) x n\n",
    "    If normalize argument is true, the coefficients are normalized by the nominal value of each paramneter.\n",
    "    '''\n",
    "    from scipy.integrate import odeint\n",
    "    def sens_func(t, x, J, Z):\n",
    "        # forms ODE to solve for sensitivity coefficient S\n",
    "        dsdt = J@x + Z\n",
    "        return dsdt\n",
    "    timepoints_ssm = timepoints\n",
    "    P = params_values\n",
    "    S0 = np.zeros(n) # Initial value for S_i  \n",
    "    SSM = np.zeros( (len(timepoints), len(P), n) )\n",
    "    xs = solutions\n",
    "    xs = np.reshape(xs,(len(timepoints), n))\n",
    "    # Solve for SSM at each time point \n",
    "    for k in range(len(timepoints)): \n",
    "        timepoints = timepoints_ssm[0:k+1]\n",
    "        if len(timepoints) == 1:\n",
    "            continue\n",
    "        # get the jacobian matrix\n",
    "#         print(xs[k,:])\n",
    "        J = compute_J(lambda x, params_values: fun(0, xs[k,:], params_values), xs[k,:], params_values, **kwargs)\n",
    "#         print(J)\n",
    "        #Solve for S = dx/dp for all x and all P (or theta, the parameters) at time point k\n",
    "        for j in range(len(P)):\n",
    "            # print('for parameter',P[j])\n",
    "            # get the pmatrix\n",
    "            Zj = compute_Zj(lambda x, params_values: fun(0, xs[k,:], params_values), xs[k,:], j, params_values, **kwargs)\n",
    "            # solve for S\n",
    "            sens_func_ode = lambda t, x : sens_func(t, x, J, Zj)\n",
    "            sol = odeint(sens_func_ode, S0, timepoints, tfirst = True)\n",
    "            S = sol\n",
    "            S = np.reshape(S, (len(timepoints), n))\n",
    "            SSM[k,j,:] = S[k,:]\n",
    "    if normalize:\n",
    "        SSM = normalize_SSM(SSM, xs, params_values) #Identifiablity was estimated using an normalized SSM\n",
    "    return SSM\n",
    "\n",
    "def normalize_SSM(SSM, solutions, params_values):\n",
    "    '''\n",
    "    Returns normalized sensitivity coefficients. \n",
    "    Multiplies each sensitivity coefficient with the corresponding parameter p_j\n",
    "    Divides the result by the corresponding state to obtain the normalized coefficient that is returned.\n",
    "    '''\n",
    "    n = np.shape(solutions)[1]\n",
    "    SSM_normalized = np.zeros(np.shape(SSM))\n",
    "    for j in range(len(params_values)):\n",
    "        for i in range(n):\n",
    "            SSM_normalized[:,j,i] = np.divide(SSM[:,j,i]*params_values[j], solutions[:,i]) \n",
    "    return SSM_normalized\n"
   ]
  },
  {
   "cell_type": "markdown",
   "metadata": {
    "slideshow": {
     "slide_type": "slide"
    }
   },
   "source": [
    "# Toggle Switch \n",
    "The dynamics are given by:\n",
    "\n",
    "\\begin{align}\n",
    "\\\\\n",
    "    \\dot{m}_T &= \\frac{Kb_T^n}{b_T^n + p_L^n} - d_T m_T, \\\\ \n",
    "    \\dot{m}_L &= \\frac{Kb_L^n}{b_L^n + p_T^n} - d_L m_L, \\\\\n",
    "    \\dot{p}_T^{} &= \\beta_T m_T - \\delta_T p_T^{},  \\\\\n",
    "    \\dot{p}_L^{} &= \\beta_L m_L - \\delta_L p_L^{}.\\\\\n",
    "    \\\\\n",
    "\\end{align}\n",
    "\n",
    "We will compute the sensitivity of this model with respect to its parameters."
   ]
  },
  {
   "cell_type": "code",
   "execution_count": 4,
   "metadata": {
    "slideshow": {
     "slide_type": "slide"
    }
   },
   "outputs": [],
   "source": [
    "from scipy.integrate import odeint\n",
    "import numpy as np\n",
    "\n",
    "# Toggle Switch dynamics\n",
    "def fun(t, x, params):\n",
    "    K,b_t,b_l,d_t,d_l,del_t,del_l,beta_t,beta_l = params\n",
    "    f0 = K * b_t**2/(b_t**2 + x[3]**2) - d_t * x[0]\n",
    "    f1 = K * b_l**2/(b_l**2 + x[2]**2) - d_l * x[1]\n",
    "    f2 = beta_t * x[0] - del_t * x[2]\n",
    "    f3 = beta_l * x[1] - del_l * x[3]\n",
    "    f = np.array([f0,f1,f2,f3])\n",
    "    return f\n",
    "\n",
    "n = 4\n",
    "params_values = [100, 50, 10, 5, 5, 0.02, 0.02, 0.01, 0.01]\n",
    "timepoints = np.linspace(0,100,100)\n",
    "x_init = np.zeros(n)\n",
    "solutions = odeint(lambda t, x: fun(t,x,params_values), x_init, timepoints, tfirst = True)\n",
    "solutions = np.reshape(solutions, (len(timepoints), n))"
   ]
  },
  {
   "cell_type": "code",
   "execution_count": 5,
   "metadata": {
    "slideshow": {
     "slide_type": "slide"
    }
   },
   "outputs": [
    {
     "name": "stdout",
     "output_type": "stream",
     "text": [
      "[[-1.25000000e+02 -5.92118946e-14 -4.73695157e-14 -3.59385743e+00]\n",
      " [ 0.00000000e+00 -1.25000000e+02 -7.78306483e+01 -1.48029737e-14]\n",
      " [ 0.00000000e+00  0.00000000e+00 -1.16666667e+00  0.00000000e+00]\n",
      " [ 0.00000000e+00  0.00000000e+00  0.00000000e+00 -2.50000000e-01]]\n"
     ]
    }
   ],
   "source": [
    "x_point = np.array([2,4,5,10])\n",
    "# Compute Jacobian at x_point\n",
    "J = compute_J(lambda x, params_values: fun(0, x, params_values), x_point, params_values)\n",
    "print(J)"
   ]
  },
  {
   "cell_type": "code",
   "execution_count": 6,
   "metadata": {
    "slideshow": {
     "slide_type": "slide"
    }
   },
   "outputs": [
    {
     "name": "stdout",
     "output_type": "stream",
     "text": [
      "[ 2.91791370e-03  0.00000000e+00  0.00000000e+00 -3.46944695e-18]\n"
     ]
    }
   ],
   "source": [
    "# Compute sensitivity wrt 2nd parameter at x_point\n",
    "Zj = compute_Zj(lambda x, params_values: fun(0, x, params_values), x_point, 1, params_values) \n",
    "print(Zj)"
   ]
  },
  {
   "cell_type": "markdown",
   "metadata": {
    "slideshow": {
     "slide_type": "slide"
    }
   },
   "source": [
    "Sensitivity equation:\n",
    "\\begin{align}\n",
    "\\dot{S} = JS + Z\n",
    "\\end{align}\n",
    "\n",
    "For more information refer to [1].\n",
    "\n",
    "[1]: Dickinson, Robert P., and Robert J. Gelinas. \"Sensitivity analysis of ordinary differential equation systems—a direct method.\" Journal of computational physics 21.2 (1976): 123-143."
   ]
  },
  {
   "cell_type": "code",
   "execution_count": 7,
   "metadata": {
    "slideshow": {
     "slide_type": "slide"
    }
   },
   "outputs": [
    {
     "name": "stderr",
     "output_type": "stream",
     "text": [
      "/home/nazmus/anaconda3/lib/python3.7/site-packages/ipykernel_launcher.py:54: RuntimeWarning: invalid value encountered in true_divide\n"
     ]
    }
   ],
   "source": [
    "SSM = compute_SSM(fun, solutions, params_values, timepoints, normalize = True)  \n",
    "SSM = np.reshape(SSM, (len(timepoints), len(params_values), n))"
   ]
  },
  {
   "cell_type": "code",
   "execution_count": 8,
   "metadata": {
    "slideshow": {
     "slide_type": "skip"
    }
   },
   "outputs": [
    {
     "data": {
      "text/plain": [
       "Text(0.5, 0, 'Time')"
      ]
     },
     "execution_count": 8,
     "metadata": {},
     "output_type": "execute_result"
    },
    {
     "data": {
      "image/png": "[encoded data removed]",
      "text/plain": [
       "<Figure size 1080x576 with 8 Axes>"
      ]
     },
     "metadata": {
      "needs_background": "light"
     },
     "output_type": "display_data"
    }
   ],
   "source": [
    "import matplotlib.pyplot as plt\n",
    "fig, axs = plt.subplots(2,2, figsize = (15,8), sharex = 'col')\n",
    "h00 = axs[0,0].imshow(SSM[:,:,0].T,cmap='hot', interpolation='nearest', aspect = 'auto')\n",
    "fig.colorbar(h00, ax=axs[0,0])\n",
    "axs[0,0].set_ylabel('Parameters')\n",
    "axs[0,0].set_title('Sensitivity of mRNA TetR with respect to all parameters')\n",
    "h01 = axs[0,1].imshow(SSM[:,:,1].T,cmap='hot', interpolation='nearest', aspect = 'auto')\n",
    "fig.colorbar(h01, ax=axs[0,1])\n",
    "axs[0,1].set_ylabel('Parameters')\n",
    "axs[0,1].set_title('Sensitivity of mRNA LacI with respect to all parameters')\n",
    "h10 = axs[1,0].imshow(SSM[:,:,2].T,cmap='hot', interpolation='nearest', aspect = 'auto')\n",
    "fig.colorbar(h10, ax=axs[1,0])\n",
    "axs[1,0].set_title('Sensitivity of TetR protein with respect to all parameters')\n",
    "h11 = axs[1,1].imshow(SSM[:,:,3].T,cmap='hot', interpolation='nearest', aspect = 'auto')\n",
    "fig.colorbar(h11, ax=axs[1,1])\n",
    "axs[1,0].set_xlabel('Time')\n",
    "axs[1,0].set_ylabel('Parameters')\n",
    "axs[1,1].set_title('Sensitivity of LacI protein with respect to all parameters')\n",
    "axs[1,1].set_ylabel('Parameters')\n",
    "axs[1,1].set_xlabel('Time')"
   ]
  },
  {
   "cell_type": "code",
   "execution_count": 4,
   "metadata": {},
   "outputs": [
    {
     "name": "stderr",
     "output_type": "stream",
     "text": [
      "/home/nazmus/anaconda3/lib/python3.7/site-packages/scipy/integrate/odepack.py:248: ODEintWarning: Excess work done on this call (perhaps wrong Dfun type). Run with full_output = 1 to get quantitative information.\n",
      "  warnings.warn(warning_msg, ODEintWarning)\n",
      "/home/nazmus/anaconda3/lib/python3.7/site-packages/ipykernel_launcher.py:54: RuntimeWarning: invalid value encountered in true_divide\n"
     ]
    }
   ],
   "source": [
    "from sbml_to_ode2 import *\n",
    "from scipy.integrate import odeint\n",
    "import numpy as np\n",
    "from sympy import *\n",
    "from sympy.utilities.lambdify import lambdify\n",
    "from sympy.abc import t\n",
    "\n",
    "filename = \"NAND_CRN.xml\"\n",
    "\n",
    "x_sym,f,P,params_values,x_init = sbml_to_ode2(filename)\n",
    "\n",
    "param_eval_f = [None]*len(f)\n",
    "i = 0\n",
    "while i < len(f):\n",
    "    param_eval_f[i] = f[i].subs(dict(zip(P,params_values)))\n",
    "    i += 1\n",
    "\n",
    "\n",
    "func = lambdify([t, x_sym, P], f)\n",
    "func_p = lambdify([t, x_sym], param_eval_f)\n",
    "\n",
    "n = len(x_sym)\n",
    "timepoints = np.linspace(0,5000,1000)\n",
    "\n",
    "ic = {\"Sw1_OFF\": 2000, \"dna_A1\": 2000, \"rna_I1\": 0, \"Sw2_OFF\": 2000, \"dna_A2\": 2000, \"rna_I2\": 0, \"Sw3_OFF\":2000, \"dna_A31\": 2000, \"dna_A32\": 2000, \"protein_RNAseH\":70,\n",
    "      \"protein_RNAP\":500}\n",
    "for i in ic.items():\n",
    "    index = x_sym.index(Symbol(i[0]))\n",
    "    x_init[index] = i[1]\n",
    "\n",
    "solutions = odeint(lambda t, x: func_p(t,x), x_init, timepoints, tfirst = True)\n",
    "solutions = np.reshape(solutions, (len(timepoints), n))\n",
    "\n",
    "\n",
    "\n",
    "x_point = x_init\n",
    "# Compute Jacobian at x_point\n",
    "J = compute_J(lambda x, params_values: func(0, x, params_values), x_point, params_values)\n",
    "#print(J)\n",
    "\n",
    "# Compute sensitivity wrt 2nd parameter at x_point\n",
    "Zj = compute_Zj(lambda x, params_values: func(0, x, params_values), x_point, 1, params_values) \n",
    "#print(Zj)\n",
    "\n",
    "SSM = compute_SSM(func, solutions, params_values, timepoints, normalize = True)  \n",
    "SSM = np.reshape(SSM, (len(timepoints), len(params_values), n))\n",
    "\n",
    "\n"
   ]
  },
  {
   "cell_type": "code",
   "execution_count": 6,
   "metadata": {},
   "outputs": [
    {
     "data": {
      "text/plain": [
       "Text(0.5, 1.0, 'Sensitivity of Genelet-3-ON-2 with respect to all parameters')"
      ]
     },
     "execution_count": 6,
     "metadata": {},
     "output_type": "execute_result"
    },
    {
     "data": {
      "image/png": "[encoded data removed]",
      "text/plain": [
       "<Figure size 1080x576 with 4 Axes>"
      ]
     },
     "metadata": {
      "needs_background": "light"
     },
     "output_type": "display_data"
    }
   ],
   "source": [
    "import matplotlib.pyplot as plt\n",
    "fig, axs = plt.subplots(1,2, figsize = (15,8), sharex = 'col')\n",
    "h00 = axs[0].imshow(SSM[:,:,21].T,cmap='hot', interpolation='nearest', aspect = 'auto')\n",
    "fig.colorbar(h00, ax=axs[0])\n",
    "axs[0].set_ylabel('Parameters')\n",
    "axs[0].set_title('Sensitivity of Genelet-3-ON-1 with respect to all parameters')\n",
    "h01 = axs[1].imshow(SSM[:,:,22].T,cmap='hot', interpolation='nearest', aspect = 'auto')\n",
    "fig.colorbar(h01, ax=axs[1])\n",
    "axs[1].set_ylabel('Parameters')\n",
    "axs[1].set_title('Sensitivity of Genelet-3-ON-2 with respect to all parameters')\n"
   ]
  },
  {
   "cell_type": "code",
   "execution_count": 14,
   "metadata": {},
   "outputs": [
    {
     "data": {
      "text/plain": [
       "(50, 45, 33)"
      ]
     },
     "execution_count": 14,
     "metadata": {},
     "output_type": "execute_result"
    }
   ],
   "source": [
    "len(params_values)\n",
    "SSM.[shape]\n"
   ]
  },
  {
   "cell_type": "code",
   "execution_count": 18,
   "metadata": {},
   "outputs": [
    {
     "data": {
      "text/plain": [
       "22"
      ]
     },
     "execution_count": 18,
     "metadata": {},
     "output_type": "execute_result"
    }
   ],
   "source": [
    "21, 22"
   ]
  },
  {
   "cell_type": "code",
   "execution_count": 40,
   "metadata": {},
   "outputs": [
    {
     "data": {
      "text/plain": [
       "\u001b[0;31mSignature:\u001b[0m\n",
       "\u001b[0mnp\u001b[0m\u001b[0;34m.\u001b[0m\u001b[0mlinspace\u001b[0m\u001b[0;34m(\u001b[0m\u001b[0;34m\u001b[0m\n",
       "\u001b[0;34m\u001b[0m    \u001b[0mstart\u001b[0m\u001b[0;34m,\u001b[0m\u001b[0;34m\u001b[0m\n",
       "\u001b[0;34m\u001b[0m    \u001b[0mstop\u001b[0m\u001b[0;34m,\u001b[0m\u001b[0;34m\u001b[0m\n",
       "\u001b[0;34m\u001b[0m    \u001b[0mnum\u001b[0m\u001b[0;34m=\u001b[0m\u001b[0;36m50\u001b[0m\u001b[0;34m,\u001b[0m\u001b[0;34m\u001b[0m\n",
       "\u001b[0;34m\u001b[0m    \u001b[0mendpoint\u001b[0m\u001b[0;34m=\u001b[0m\u001b[0;32mTrue\u001b[0m\u001b[0;34m,\u001b[0m\u001b[0;34m\u001b[0m\n",
       "\u001b[0;34m\u001b[0m    \u001b[0mretstep\u001b[0m\u001b[0;34m=\u001b[0m\u001b[0;32mFalse\u001b[0m\u001b[0;34m,\u001b[0m\u001b[0;34m\u001b[0m\n",
       "\u001b[0;34m\u001b[0m    \u001b[0mdtype\u001b[0m\u001b[0;34m=\u001b[0m\u001b[0;32mNone\u001b[0m\u001b[0;34m,\u001b[0m\u001b[0;34m\u001b[0m\n",
       "\u001b[0;34m\u001b[0m    \u001b[0maxis\u001b[0m\u001b[0;34m=\u001b[0m\u001b[0;36m0\u001b[0m\u001b[0;34m,\u001b[0m\u001b[0;34m\u001b[0m\n",
       "\u001b[0;34m\u001b[0m\u001b[0;34m)\u001b[0m\u001b[0;34m\u001b[0m\u001b[0;34m\u001b[0m\u001b[0m\n",
       "\u001b[0;31mDocstring:\u001b[0m\n",
       "Return evenly spaced numbers over a specified interval.\n",
       "\n",
       "Returns `num` evenly spaced samples, calculated over the\n",
       "interval [`start`, `stop`].\n",
       "\n",
       "The endpoint of the interval can optionally be excluded.\n",
       "\n",
       ".. versionchanged:: 1.16.0\n",
       "    Non-scalar `start` and `stop` are now supported.\n",
       "\n",
       "Parameters\n",
       "----------\n",
       "start : array_like\n",
       "    The starting value of the sequence.\n",
       "stop : array_like\n",
       "    The end value of the sequence, unless `endpoint` is set to False.\n",
       "    In that case, the sequence consists of all but the last of ``num + 1``\n",
       "    evenly spaced samples, so that `stop` is excluded.  Note that the step\n",
       "    size changes when `endpoint` is False.\n",
       "num : int, optional\n",
       "    Number of samples to generate. Default is 50. Must be non-negative.\n",
       "endpoint : bool, optional\n",
       "    If True, `stop` is the last sample. Otherwise, it is not included.\n",
       "    Default is True.\n",
       "retstep : bool, optional\n",
       "    If True, return (`samples`, `step`), where `step` is the spacing\n",
       "    between samples.\n",
       "dtype : dtype, optional\n",
       "    The type of the output array.  If `dtype` is not given, infer the data\n",
       "    type from the other input arguments.\n",
       "\n",
       "    .. versionadded:: 1.9.0\n",
       "\n",
       "axis : int, optional\n",
       "    The axis in the result to store the samples.  Relevant only if start\n",
       "    or stop are array-like.  By default (0), the samples will be along a\n",
       "    new axis inserted at the beginning. Use -1 to get an axis at the end.\n",
       "\n",
       "    .. versionadded:: 1.16.0\n",
       "\n",
       "Returns\n",
       "-------\n",
       "samples : ndarray\n",
       "    There are `num` equally spaced samples in the closed interval\n",
       "    ``[start, stop]`` or the half-open interval ``[start, stop)``\n",
       "    (depending on whether `endpoint` is True or False).\n",
       "step : float, optional\n",
       "    Only returned if `retstep` is True\n",
       "\n",
       "    Size of spacing between samples.\n",
       "\n",
       "\n",
       "See Also\n",
       "--------\n",
       "arange : Similar to `linspace`, but uses a step size (instead of the\n",
       "         number of samples).\n",
       "geomspace : Similar to `linspace`, but with numbers spaced evenly on a log\n",
       "            scale (a geometric progression).\n",
       "logspace : Similar to `geomspace`, but with the end points specified as\n",
       "           logarithms.\n",
       "\n",
       "Examples\n",
       "--------\n",
       ">>> np.linspace(2.0, 3.0, num=5)\n",
       "array([2.  , 2.25, 2.5 , 2.75, 3.  ])\n",
       ">>> np.linspace(2.0, 3.0, num=5, endpoint=False)\n",
       "array([2. ,  2.2,  2.4,  2.6,  2.8])\n",
       ">>> np.linspace(2.0, 3.0, num=5, retstep=True)\n",
       "(array([2.  ,  2.25,  2.5 ,  2.75,  3.  ]), 0.25)\n",
       "\n",
       "Graphical illustration:\n",
       "\n",
       ">>> import matplotlib.pyplot as plt\n",
       ">>> N = 8\n",
       ">>> y = np.zeros(N)\n",
       ">>> x1 = np.linspace(0, 10, N, endpoint=True)\n",
       ">>> x2 = np.linspace(0, 10, N, endpoint=False)\n",
       ">>> plt.plot(x1, y, 'o')\n",
       "[<matplotlib.lines.Line2D object at 0x...>]\n",
       ">>> plt.plot(x2, y + 0.5, 'o')\n",
       "[<matplotlib.lines.Line2D object at 0x...>]\n",
       ">>> plt.ylim([-0.5, 1])\n",
       "(-0.5, 1)\n",
       ">>> plt.show()\n",
       "\u001b[0;31mFile:\u001b[0m      ~/anaconda3/lib/python3.7/site-packages/numpy/core/function_base.py\n",
       "\u001b[0;31mType:\u001b[0m      function\n"
      ]
     },
     "metadata": {},
     "output_type": "display_data"
    }
   ],
   "source": [
    "np.linspace?"
   ]
  },
  {
   "cell_type": "code",
   "execution_count": 32,
   "metadata": {},
   "outputs": [
    {
     "data": {
      "text/plain": [
       "<matplotlib.axes._subplots.AxesSubplot at 0x7f97267a2ed0>"
      ]
     },
     "execution_count": 32,
     "metadata": {},
     "output_type": "execute_result"
    },
    {
     "data": {
      "image/png": "[encoded data removed]",
      "text/plain": [
       "<Figure size 1080x576 with 2 Axes>"
      ]
     },
     "metadata": {
      "needs_background": "light"
     },
     "output_type": "display_data"
    }
   ],
   "source": []
  },
  {
   "cell_type": "code",
   "execution_count": null,
   "metadata": {},
   "outputs": [],
   "source": []
  }
 ],
 "metadata": {
  "celltoolbar": "Slideshow",
  "kernelspec": {
   "display_name": "Python 3",
   "language": "python",
   "name": "python3"
  },
  "language_info": {
   "codemirror_mode": {
    "name": "ipython",
    "version": 3
   },
   "file_extension": ".py",
   "mimetype": "text/x-python",
   "name": "python",
   "nbconvert_exporter": "python",
   "pygments_lexer": "ipython3",
   "version": "3.7.6"
  }
 },
 "nbformat": 4,
 "nbformat_minor": 4
}
