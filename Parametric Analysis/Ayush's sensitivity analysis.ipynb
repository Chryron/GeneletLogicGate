{
 "cells": [
  {
   "cell_type": "markdown",
   "metadata": {
    "slideshow": {
     "slide_type": "slide"
    }
   },
   "source": [
    "# BE 240 Lecture : 2\n",
    "\n",
    "## Local Sensitivity Analysis\n",
    "### _Ayush Pandey_\n",
    "\n"
   ]
  },
  {
   "cell_type": "markdown",
   "metadata": {
    "slideshow": {
     "slide_type": "slide"
    }
   },
   "source": [
    "# General nonlinear system dynamics:\n",
    "\\begin{align}\n",
    "\\dot{x} &= f(x, \\Theta) + g(x, \\Theta)u\\\\\n",
    "\\dot{y} &= h(x, \\Theta)\\\\\n",
    "\\end{align}\n",
    "Or in a simpler case: \n",
    "\\begin{align}\n",
    "y = Cx\\\\\n",
    "\\end{align}\n",
    "\n",
    "where $x$ : States, $\\Theta$ : Parameter set, and $y$ : Output\n"
   ]
  },
  {
   "cell_type": "markdown",
   "metadata": {
    "slideshow": {
     "slide_type": "slide"
    }
   },
   "source": [
    "# Sensitivity coefficients:\n",
    "\\begin{align}\n",
    "S_i(t) = \\frac{dx}{d\\theta}(t)\n",
    "\\end{align}\n",
    "where $x$ : State, $\\theta$ : Parameter\n",
    "\n",
    "\n",
    "# Jacobian:\n",
    "\\begin{align}\n",
    "J = \\frac{df}{dx}\n",
    "\\end{align}\n",
    "where $x$ : State, $f$ : System ODE\n",
    "\n"
   ]
  },
  {
   "cell_type": "markdown",
   "metadata": {
    "slideshow": {
     "slide_type": "slide"
    }
   },
   "source": [
    "\n",
    "# Sensitivity to Parameter:\n",
    "\\begin{align}\n",
    "Z = \\frac{df}{d\\theta}\n",
    "\\end{align}\n",
    "where $x$ : State, $f$ : System ODE\n",
    "\n",
    "# Fourth-Order Central Difference Method:\n",
    "We can approximate the derivatives using the fourth order central difference method. This speeds up the computations.\n",
    "The formula is given by:\n",
    "\\begin{align}\n",
    "\\frac{df}{dx} \\approx \\frac{-f(x + 2h) + 8f(x+h) - 8f(x-h) + f(x-2h)}{12h}\\\\\n",
    "\\\\\n",
    "\\end{align}"
   ]
  },
  {
   "cell_type": "code",
   "execution_count": 1,
   "metadata": {
    "slideshow": {
     "slide_type": "skip"
    }
   },
   "outputs": [],
   "source": [
    "# Compute Jacobian\n",
    "import warnings\n",
    "def compute_J(fun, x, params_values, **kwargs):\n",
    "    '''\n",
    "    Compute the Jacobian J = df/dx at a point x.\n",
    "    Returns a matrix of size n x n.\n",
    "    Uses fourth-order central difference method to compute Jacobian\n",
    "    '''\n",
    "    n = len(x)\n",
    "    var = x\n",
    "    # initialize J\n",
    "    J = np.zeros( (n, len(x)) )   \n",
    "    P = params_values \n",
    "    # jfun = nd.Jacobian(lambda x: fun_ode(0, x, P), **kwargs) # Using numdifftools\n",
    "    # return jfun(x)\n",
    "    # store the variable with respect to which we approximate the differentiation (df/dvar)\n",
    "    X = var \n",
    "    for i in range(n):\n",
    "        for j in range(len(var)):\n",
    "            F = np.zeros( (4,1) )\n",
    "            h = X[j]*0.01\n",
    "            # Gets O(4) central difference on dfi/dvarj\n",
    "            if h != 0:\n",
    "                var = X\n",
    "                var[j] = X[j] + 2*h\n",
    "                f = fun(var, P)\n",
    "                F[0] = f[i]\n",
    "                var[j] = X[j] + h\n",
    "                f = fun(var, P)\n",
    "                F[1] = f[i]\n",
    "                var[j] = X[j] - h\n",
    "                f = fun(var, P)\n",
    "                F[2] = f[i]\n",
    "                var[j] = X[j] - 2*h\n",
    "                f = fun(var, P)\n",
    "                F[3] = f[i]\n",
    "                #Store appro var. dfi/dvarj into J\n",
    "                J[i,j]= (-F[0] + 8*F[1] - 8*F[2] + F[3])/(12*h) \n",
    "                # Error check\n",
    "                if J[i, j] == np.Inf:\n",
    "                    warnings.warn('Inf found')\n",
    "                    J[i, j] = 1\n",
    "                elif J[i, j] == np.NaN:\n",
    "                    warnings.warn('NaN found')\n",
    "                    J[i, j] = 0\n",
    "    return J"
   ]
  },
  {
   "cell_type": "code",
   "execution_count": 2,
   "metadata": {
    "slideshow": {
     "slide_type": "skip"
    }
   },
   "outputs": [],
   "source": [
    "def compute_Zj(fun, x, j, params_values, **kwargs):\n",
    "    '''\n",
    "    Compute Z_j, i.e. df/dp_j at a particular timepoint k for the parameter p_j. \n",
    "    Returns a vector of size n x 1. \n",
    "    '''\n",
    "    n = len(x)\n",
    "    Z = np.zeros(n)    \n",
    "    P_holder = params_values\n",
    "    # For each state\n",
    "    for i in range(n):\n",
    "        P = P_holder\n",
    "        F = np.zeros( (4,1) ) # For 4th order difference\n",
    "        h = P[j]*0.01 # Small parameter for this parameter\n",
    "        # Gets O(4) central difference on dfi/dpj\n",
    "        if h != 0:\n",
    "            P[j] = P_holder[j] + 2*h\n",
    "            f = fun(x, P)\n",
    "            F[0] = f[i]\n",
    "            P[j] = P_holder[j] + h\n",
    "            f = fun(x, P)\n",
    "            F[1] = f[i]\n",
    "            P[j] = P_holder[j] - h\n",
    "            f = fun(x, P)\n",
    "            F[2] = f[i]\n",
    "            P[j] = P_holder[j] - 2*h\n",
    "            f = fun(x, P)\n",
    "            F[3] = f[i]\n",
    "            #Store approx. dfi/dpj into Z\n",
    "            Z[i] = (-F[0] + 8*F[1] - 8*F[2] + F[3])/(12*h)   \n",
    "            if Z[i] == np.Inf:\n",
    "                warnings.warn('Inf found')\n",
    "                Z[i] = 1\n",
    "            elif Z[i] == np.NaN:\n",
    "                warnings.warn('NaN found')\n",
    "                Z[i] = 0\n",
    "    return Z\n",
    "\n"
   ]
  },
  {
   "cell_type": "code",
   "execution_count": 3,
   "metadata": {
    "slideshow": {
     "slide_type": "skip"
    }
   },
   "outputs": [],
   "source": [
    "def compute_SSM(fun, solutions, params_values, timepoints, normalize = False, **kwargs):\n",
    "    '''\n",
    "    Returns the sensitivity coefficients S_j for each parameter p_j. \n",
    "    Solutions is the ODE solution to fun for timepoints.\n",
    "    Solutions is of shape (len(timepoints), n), where n is the len(x).\n",
    "    The sensitivity coefficients are written in a sensitivity matrix SSM of size len(timepoints) x len(params) x n\n",
    "    If normalize argument is true, the coefficients are normalized by the nominal value of each paramneter.\n",
    "    '''\n",
    "    from scipy.integrate import odeint\n",
    "    def sens_func(t, x, J, Z):\n",
    "        # forms ODE to solve for sensitivity coefficient S\n",
    "        dsdt = J@x + Z\n",
    "        return dsdt\n",
    "    timepoints_ssm = timepoints\n",
    "    P = params_values\n",
    "    S0 = np.zeros(n) # Initial value for S_i  \n",
    "    SSM = np.zeros( (len(timepoints), len(P), n) )\n",
    "    xs = solutions\n",
    "    xs = np.reshape(xs,(len(timepoints), n))\n",
    "    # Solve for SSM at each time point \n",
    "    for k in range(len(timepoints)): \n",
    "        timepoints = timepoints_ssm[0:k+1]\n",
    "        if len(timepoints) == 1:\n",
    "            continue\n",
    "        # get the jacobian matrix\n",
    "#         print(xs[k,:])\n",
    "        J = compute_J(lambda x, params_values: fun(0, xs[k,:], params_values), xs[k,:], params_values, **kwargs)\n",
    "#         print(J)\n",
    "        #Solve for S = dx/dp for all x and all P (or theta, the parameters) at time point k\n",
    "        for j in range(len(P)):\n",
    "            # print('for parameter',P[j])\n",
    "            # get the pmatrix\n",
    "            Zj = compute_Zj(lambda x, params_values: fun(0, xs[k,:], params_values), xs[k,:], j, params_values, **kwargs)\n",
    "            # solve for S\n",
    "            sens_func_ode = lambda t, x : sens_func(t, x, J, Zj)\n",
    "            sol = odeint(sens_func_ode, S0, timepoints, tfirst = True)\n",
    "            S = sol\n",
    "            S = np.reshape(S, (len(timepoints), n))\n",
    "            SSM[k,j,:] = S[k,:]\n",
    "    if normalize:\n",
    "        SSM = normalize_SSM(SSM, xs, params_values) #Identifiablity was estimated using an normalized SSM\n",
    "    return SSM\n",
    "\n",
    "def normalize_SSM(SSM, solutions, params_values):\n",
    "    '''\n",
    "    Returns normalized sensitivity coefficients. \n",
    "    Multiplies each sensitivity coefficient with the corresponding parameter p_j\n",
    "    Divides the result by the corresponding state to obtain the normalized coefficient that is returned.\n",
    "    '''\n",
    "    n = np.shape(solutions)[1]\n",
    "    SSM_normalized = np.zeros(np.shape(SSM))\n",
    "    for j in range(len(params_values)):\n",
    "        for i in range(n):\n",
    "            SSM_normalized[:,j,i] = np.divide(SSM[:,j,i]*params_values[j], solutions[:,i]) \n",
    "    return SSM_normalized\n"
   ]
  },
  {
   "cell_type": "markdown",
   "metadata": {
    "slideshow": {
     "slide_type": "slide"
    }
   },
   "source": [
    "# Toggle Switch \n",
    "The dynamics are given by:\n",
    "\n",
    "\\begin{align}\n",
    "\\\\\n",
    "    \\dot{m}_T &= \\frac{Kb_T^n}{b_T^n + p_L^n} - d_T m_T, \\\\ \n",
    "    \\dot{m}_L &= \\frac{Kb_L^n}{b_L^n + p_T^n} - d_L m_L, \\\\\n",
    "    \\dot{p}_T^{} &= \\beta_T m_T - \\delta_T p_T^{},  \\\\\n",
    "    \\dot{p}_L^{} &= \\beta_L m_L - \\delta_L p_L^{}.\\\\\n",
    "    \\\\\n",
    "\\end{align}\n",
    "\n",
    "We will compute the sensitivity of this model with respect to its parameters."
   ]
  },
  {
   "cell_type": "code",
   "execution_count": 4,
   "metadata": {
    "slideshow": {
     "slide_type": "slide"
    }
   },
   "outputs": [],
   "source": [
    "from scipy.integrate import odeint\n",
    "import numpy as np\n",
    "\n",
    "# Toggle Switch dynamics\n",
    "def fun(t, x, params):\n",
    "    K,b_t,b_l,d_t,d_l,del_t,del_l,beta_t,beta_l = params\n",
    "    f0 = K * b_t**2/(b_t**2 + x[3]**2) - d_t * x[0]\n",
    "    f1 = K * b_l**2/(b_l**2 + x[2]**2) - d_l * x[1]\n",
    "    f2 = beta_t * x[0] - del_t * x[2]\n",
    "    f3 = beta_l * x[1] - del_l * x[3]\n",
    "    f = np.array([f0,f1,f2,f3])\n",
    "    return f\n",
    "\n",
    "n = 4\n",
    "params_values = [100, 50, 10, 5, 5, 0.02, 0.02, 0.01, 0.01]\n",
    "timepoints = np.linspace(0,100,100)\n",
    "x_init = np.zeros(n)\n",
    "solutions = odeint(lambda t, x: fun(t,x,params_values), x_init, timepoints, tfirst = True)\n",
    "solutions = np.reshape(solutions, (len(timepoints), n))"
   ]
  },
  {
   "cell_type": "code",
   "execution_count": 5,
   "metadata": {
    "slideshow": {
     "slide_type": "slide"
    }
   },
   "outputs": [
    {
     "name": "stdout",
     "output_type": "stream",
     "text": [
      "[[-1.25000000e+02 -5.92118946e-14 -4.73695157e-14 -3.59385743e+00]\n",
      " [ 0.00000000e+00 -1.25000000e+02 -7.78306483e+01 -1.48029737e-14]\n",
      " [ 0.00000000e+00  0.00000000e+00 -1.16666667e+00  0.00000000e+00]\n",
      " [ 0.00000000e+00  0.00000000e+00  0.00000000e+00 -2.50000000e-01]]\n"
     ]
    }
   ],
   "source": [
    "x_point = np.array([2,4,5,10])\n",
    "# Compute Jacobian at x_point\n",
    "J = compute_J(lambda x, params_values: fun(0, x, params_values), x_point, params_values)\n",
    "print(J)"
   ]
  },
  {
   "cell_type": "code",
   "execution_count": 6,
   "metadata": {
    "slideshow": {
     "slide_type": "slide"
    }
   },
   "outputs": [
    {
     "name": "stdout",
     "output_type": "stream",
     "text": [
      "[ 2.91791370e-03  0.00000000e+00  0.00000000e+00 -3.46944695e-18]\n"
     ]
    }
   ],
   "source": [
    "# Compute sensitivity wrt 2nd parameter at x_point\n",
    "Zj = compute_Zj(lambda x, params_values: fun(0, x, params_values), x_point, 1, params_values) \n",
    "print(Zj)"
   ]
  },
  {
   "cell_type": "markdown",
   "metadata": {
    "slideshow": {
     "slide_type": "slide"
    }
   },
   "source": [
    "Sensitivity equation:\n",
    "\\begin{align}\n",
    "\\dot{S} = JS + Z\n",
    "\\end{align}\n",
    "\n",
    "For more information refer to [1].\n",
    "\n",
    "[1]: Dickinson, Robert P., and Robert J. Gelinas. \"Sensitivity analysis of ordinary differential equation systems—a direct method.\" Journal of computational physics 21.2 (1976): 123-143."
   ]
  },
  {
   "cell_type": "code",
   "execution_count": 7,
   "metadata": {
    "slideshow": {
     "slide_type": "slide"
    }
   },
   "outputs": [
    {
     "name": "stderr",
     "output_type": "stream",
     "text": [
      "/home/nazmus/anaconda3/lib/python3.7/site-packages/ipykernel_launcher.py:54: RuntimeWarning: invalid value encountered in true_divide\n"
     ]
    }
   ],
   "source": [
    "SSM = compute_SSM(fun, solutions, params_values, timepoints, normalize = True)  \n",
    "SSM = np.reshape(SSM, (len(timepoints), len(params_values), n))"
   ]
  },
  {
   "cell_type": "code",
   "execution_count": 8,
   "metadata": {
    "slideshow": {
     "slide_type": "skip"
    }
   },
   "outputs": [
    {
     "data": {
      "text/plain": [
       "Text(0.5, 0, 'Time')"
      ]
     },
     "execution_count": 8,
     "metadata": {},
     "output_type": "execute_result"
    },
    {
     "data": {
      "image/png": "[encoded data removed]",
      "text/plain": [
       "<Figure size 1080x576 with 8 Axes>"
      ]
     },
     "metadata": {
      "needs_background": "light"
     },
     "output_type": "display_data"
    }
   ],
   "source": [
    "import matplotlib.pyplot as plt\n",
    "fig, axs = plt.subplots(2,2, figsize = (15,8), sharex = 'col')\n",
    "h00 = axs[0,0].imshow(SSM[:,:,0].T,cmap='hot', interpolation='nearest', aspect = 'auto')\n",
    "fig.colorbar(h00, ax=axs[0,0])\n",
    "axs[0,0].set_ylabel('Parameters')\n",
    "axs[0,0].set_title('Sensitivity of mRNA TetR with respect to all parameters')\n",
    "h01 = axs[0,1].imshow(SSM[:,:,1].T,cmap='hot', interpolation='nearest', aspect = 'auto')\n",
    "fig.colorbar(h01, ax=axs[0,1])\n",
    "axs[0,1].set_ylabel('Parameters')\n",
    "axs[0,1].set_title('Sensitivity of mRNA LacI with respect to all parameters')\n",
    "h10 = axs[1,0].imshow(SSM[:,:,2].T,cmap='hot', interpolation='nearest', aspect = 'auto')\n",
    "fig.colorbar(h10, ax=axs[1,0])\n",
    "axs[1,0].set_title('Sensitivity of TetR protein with respect to all parameters')\n",
    "h11 = axs[1,1].imshow(SSM[:,:,3].T,cmap='hot', interpolation='nearest', aspect = 'auto')\n",
    "fig.colorbar(h11, ax=axs[1,1])\n",
    "axs[1,0].set_xlabel('Time')\n",
    "axs[1,0].set_ylabel('Parameters')\n",
    "axs[1,1].set_title('Sensitivity of LacI protein with respect to all parameters')\n",
    "axs[1,1].set_ylabel('Parameters')\n",
    "axs[1,1].set_xlabel('Time')"
   ]
  },
  {
   "cell_type": "code",
   "execution_count": 10,
   "metadata": {},
   "outputs": [
    {
     "data": {
      "text/plain": [
       "[Sw1_OFF,\n",
       " complex_Sw1_ON,\n",
       " rna_I31,\n",
       " dna_A1,\n",
       " rna_I1,\n",
       " protein_RNAP,\n",
       " protein_RNAseH,\n",
       " complex_Sw1_AI,\n",
       " complex_Sw1_ON_protein_RNAP,\n",
       " complex_Sw1_OFF_protein_RNAP,\n",
       " complex_Sw1_AI_protein_RNAseH,\n",
       " Sw2_OFF,\n",
       " complex_Sw2_ON,\n",
       " rna_I32,\n",
       " dna_A2,\n",
       " rna_I2,\n",
       " complex_Sw2_AI,\n",
       " complex_Sw2_ON_protein_RNAP,\n",
       " complex_Sw2_OFF_protein_RNAP,\n",
       " complex_Sw2_AI_protein_RNAseH,\n",
       " Sw3_OFF,\n",
       " complex_Sw3_ON_1,\n",
       " complex_Sw3_ON_2,\n",
       " rna_I4,\n",
       " dna_A31,\n",
       " dna_A32,\n",
       " complex_Sw3_AI,\n",
       " complex_Sw3_AI_2,\n",
       " complex_Sw3_ON_2_protein_RNAP,\n",
       " complex_Sw3_AI_2_protein_RNAseH,\n",
       " complex_Sw3_ON_1_protein_RNAP,\n",
       " complex_Sw3_OFF_protein_RNAP,\n",
       " complex_Sw3_AI_protein_RNAseH]"
      ]
     },
     "execution_count": 10,
     "metadata": {},
     "output_type": "execute_result"
    }
   ],
   "source": [
    "from sbml_to_ode2 import *\n",
    "\n",
    "\n",
    "NAND_str = \"NAND_CRN.xml\"\n",
    "\n",
    "\n",
    "x,f,P,params_values,x_init = sbml_to_ode2(NAND_str)\n",
    "\n",
    "\n",
    "\n",
    "#n = 4\n",
    "#timepoints = np.linspace(0,100,100)\n",
    "#x_init = np.zeros(n)\n",
    "#solutions = odeint(lambda t, x: fun(t,x,params_values), x_init, timepoints, tfirst = True)\n",
    "#solutions = np.reshape(solutions, (len(timepoints), n))\n",
    "\n"
   ]
  },
  {
   "cell_type": "code",
   "execution_count": null,
   "metadata": {},
   "outputs": [],
   "source": []
  }
 ],
 "metadata": {
  "celltoolbar": "Slideshow",
  "kernelspec": {
   "display_name": "Python 3",
   "language": "python",
   "name": "python3"
  },
  "language_info": {
   "codemirror_mode": {
    "name": "ipython",
    "version": 3
   },
   "file_extension": ".py",
   "mimetype": "text/x-python",
   "name": "python",
   "nbconvert_exporter": "python",
   "pygments_lexer": "ipython3",
   "version": "3.7.6"
  }
 },
 "nbformat": 4,
 "nbformat_minor": 4
}
